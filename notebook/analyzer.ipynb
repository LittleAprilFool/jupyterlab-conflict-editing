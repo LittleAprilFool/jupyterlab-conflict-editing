{
 "cells": [
  {
   "cell_type": "code",
   "execution_count": 2,
   "id": "0b10a551-5c68-4472-b8e5-260e609015d2",
   "metadata": {},
   "outputs": [],
   "source": [
    "import ast\n",
    "from pprint import pprint"
   ]
  },
  {
   "cell_type": "code",
   "execution_count": 26,
   "id": "590e40d1-3875-4723-ade8-48743f91c37b",
   "metadata": {},
   "outputs": [],
   "source": [
    "def analyze(code):\n",
    "    tree = ast.parse(code)\n",
    "    analyzer = Analyzer()\n",
    "    analyzer.visit(tree)\n",
    "    analyzer.report()\n",
    "\n",
    "\n",
    "class Analyzer(ast.NodeVisitor):\n",
    "    def __init__(self):\n",
    "        self.stats = {\"variable\": []}\n",
    "        \n",
    "    def visit_Name(self, node):\n",
    "        # self.stats[\"variable\"].append(node.id)\n",
    "        self.generic_visit(node)\n",
    "    \n",
    "    def visit_Assign(self, node):\n",
    "        for target in node.targets:\n",
    "            if(type(target) == ast.Name):\n",
    "                self.stats[\"variable\"].append(target.id)\n",
    "            if(type(target) == ast.Subscript):\n",
    "                self.stats[\"variable\"].append(target.value.id)\n",
    "        self.generic_visit(node)\n",
    "        \n",
    "    def visit_Expr(self, node):\n",
    "        if(type(node.value)==ast.Call and type(node.value.func) == ast.Attribute):\n",
    "            self.stats[\"variable\"].append(node.value.func.value.id)\n",
    "        self.generic_visit(node)\n",
    "\n",
    "    def report(self):\n",
    "        pprint(self.stats)"
   ]
  },
  {
   "cell_type": "code",
   "execution_count": 27,
   "id": "8cd7eae8-7cf0-4f0e-805a-1098a1a10f83",
   "metadata": {},
   "outputs": [],
   "source": [
    "code = \"\"\"\n",
    "chris(test)\n",
    "\"\"\""
   ]
  },
  {
   "cell_type": "code",
   "execution_count": 28,
   "id": "c20f4e0c-11fb-4b97-a5f9-9eccd3006da7",
   "metadata": {},
   "outputs": [
    {
     "name": "stdout",
     "output_type": "stream",
     "text": [
      "('value',)\n",
      "['__add__', '__class__', '__class_getitem__', '__contains__', '__delattr__', '__dir__', '__doc__', '__eq__', '__format__', '__ge__', '__getattribute__', '__getitem__', '__getnewargs__', '__gt__', '__hash__', '__init__', '__init_subclass__', '__iter__', '__le__', '__len__', '__lt__', '__mul__', '__ne__', '__new__', '__reduce__', '__reduce_ex__', '__repr__', '__rmul__', '__setattr__', '__sizeof__', '__str__', '__subclasshook__', 'count', 'index']\n",
      "{'variable': []}\n"
     ]
    }
   ],
   "source": [
    "analyze(code)"
   ]
  },
  {
   "cell_type": "code",
   "execution_count": null,
   "id": "6f71e583-2f2a-49d0-b86c-3b07ea3507fa",
   "metadata": {},
   "outputs": [],
   "source": []
  }
 ],
 "metadata": {
  "kernelspec": {
   "display_name": "Python 3 (ipykernel)",
   "language": "python",
   "name": "python3"
  },
  "language_info": {
   "codemirror_mode": {
    "name": "ipython",
    "version": 3
   },
   "file_extension": ".py",
   "mimetype": "text/x-python",
   "name": "python",
   "nbconvert_exporter": "python",
   "pygments_lexer": "ipython3",
   "version": "3.10.4"
  }
 },
 "nbformat": 4,
 "nbformat_minor": 5
}
