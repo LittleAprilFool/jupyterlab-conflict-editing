{
 "cells": [
  {
   "cell_type": "markdown",
   "id": "d4c1e6db-2f7a-40cd-b676-20f003d0563f",
   "metadata": {},
   "source": [
    "## analyzer"
   ]
  },
  {
   "cell_type": "code",
   "execution_count": 2,
   "id": "c12598a0-e655-4359-8375-983bec806963",
   "metadata": {},
   "outputs": [],
   "source": [
    "import ast\n",
    "from pprint import pprint\n",
    "\n",
    "def analyze(code):\n",
    "    tree = ast.parse(code)\n",
    "    analyzer = Analyzer()\n",
    "    analyzer.visit(tree)\n",
    "    analyzer.report()\n",
    "\n",
    "\n",
    "class Analyzer(ast.NodeVisitor):\n",
    "    def __init__(self):\n",
    "        self.stats = {\"variable\": []}\n",
    "        \n",
    "    def visit_Name(self, node):\n",
    "        # self.stats[\"variable\"].append(node.id)\n",
    "        self.generic_visit(node)\n",
    "    \n",
    "    def visit_Assign(self, node):\n",
    "        for target in node.targets:\n",
    "            if(type(target) == ast.Name):\n",
    "                self.stats[\"variable\"].append(target.id)\n",
    "            if(type(target) == ast.Subscript):\n",
    "                self.stats[\"variable\"].append(target.value.id)\n",
    "        self.generic_visit(node)\n",
    "        \n",
    "    def visit_Expr(self, node):\n",
    "        if(type(node.value)==ast.Call and type(node.value.func) == ast.Attribute):\n",
    "            self.stats[\"variable\"].append(node.value.func.value.id)\n",
    "        self.generic_visit(node)\n",
    "\n",
    "    def report(self):\n",
    "        pprint(self.stats)"
   ]
  },
  {
   "cell_type": "markdown",
   "id": "beb37753-5086-4815-8971-e55fe52f8c4d",
   "metadata": {},
   "source": [
    "## private cell"
   ]
  },
  {
   "cell_type": "code",
   "execution_count": 32,
   "id": "d5238bb6-79c9-4f32-a8ce-b5da9e3bac40",
   "metadata": {},
   "outputs": [],
   "source": [
    "from IPython.core.magic import (register_line_magic, register_cell_magic)\n",
    "import copy\n",
    "import re\n",
    "\n",
    "@register_cell_magic\n",
    "def private(line, cell):\n",
    "    name=line.split(\" \")[0]\n",
    "    variables=line.split(\" \")[1:]\n",
    "    \n",
    "    content = f'class {name}:\\n'\n",
    "    for variable in variables:\n",
    "        content +=f'\\t{variable}=copy.deepcopy({variable})\\n'\n",
    "    for line in cell.split('\\n'):\n",
    "        pattern=r'def .*\\(.*\\):'\n",
    "        match = re.search(pattern, line)\n",
    "        if(match):\n",
    "            l = line.split('(')\n",
    "            if(l[1][0]==')'):\n",
    "                newl = l[0] + '(self'+ \"\".join(l[1:])\n",
    "            else:\n",
    "                newl = l[0] + '(self,' + \"\".join(l[1:])\n",
    "            line = newl\n",
    "        content += f'\\t{line}\\n'\n",
    "    content += f'{name}={name}()'\n",
    "    print(content)\n",
    "    exec(content, globals())\n",
    "\n",
    "@register_cell_magic\n",
    "def privateMain(line, cell):\n",
    "    name=line.split(\" \")[0]\n",
    "    variables=line.split(\" \")[1:]\n",
    "\n",
    "    content = f'class {name}:\\n'\n",
    "    for variable in variables:\n",
    "        content +=f'\\t{variable}=copy.deepcopy({variable})\\n'\n",
    "    for line in cell.split('\\n'):\n",
    "        pattern=r'def .*\\(.*\\):'\n",
    "        match = re.search(pattern, line)\n",
    "        if(match):\n",
    "            l = line.split('(')\n",
    "            if(l[1][0]==')'):\n",
    "                newl = l[0] + '(self'+ \"\".join(l[1:])\n",
    "            else:\n",
    "                newl = l[0] + '(self,' + \"\".join(l[1:])\n",
    "            line = newl\n",
    "        content += f'\\t{line}\\n'\n",
    "    content += f'{name}={name}()'\n",
    "    print(content)\n",
    "    exec(content, globals())\n",
    "    for variable in variables:\n",
    "        exec(f'{variable} = {name}.{variable}', globals())\n",
    "        print(f'{variable} = {name}.{variable}')"
   ]
  },
  {
   "cell_type": "code",
   "execution_count": 25,
   "id": "05f7c372-ce28-4407-941c-5b9ce1022893",
   "metadata": {},
   "outputs": [],
   "source": [
    "test = 1"
   ]
  },
  {
   "cell_type": "code",
   "execution_count": 27,
   "id": "2b71994f-da2b-4648-a5cd-0e1907d6fe3b",
   "metadata": {},
   "outputs": [],
   "source": [
    "code = \"\"\"\n",
    "test = 'April'\n",
    "\"\"\""
   ]
  },
  {
   "cell_type": "code",
   "execution_count": 28,
   "id": "38666cc8-8e12-4660-9f6d-a88da3fda4e3",
   "metadata": {},
   "outputs": [
    {
     "name": "stdout",
     "output_type": "stream",
     "text": [
      "{'variable': ['test']}\n"
     ]
    }
   ],
   "source": [
    "analyze(code)"
   ]
  },
  {
   "cell_type": "code",
   "execution_count": 29,
   "id": "9ac75b9b-d5ca-4da6-8713-02f90c1286f3",
   "metadata": {},
   "outputs": [
    {
     "name": "stdout",
     "output_type": "stream",
     "text": [
      "class april:\n",
      "\ttest=copy.deepcopy(test)\n",
      "\ttest = 'April'\n",
      "\t\n",
      "april=april()\n"
     ]
    }
   ],
   "source": [
    "%%private april test\n",
    "test = 'April'"
   ]
  },
  {
   "cell_type": "code",
   "execution_count": 33,
   "id": "2c96d439-7a23-469f-b71c-035754b4e411",
   "metadata": {},
   "outputs": [
    {
     "name": "stdout",
     "output_type": "stream",
     "text": [
      "class april:\n",
      "\ttest=copy.deepcopy(test)\n",
      "\ttest = 'April'\n",
      "\t\n",
      "april=april()\n",
      "test = april.test\n"
     ]
    }
   ],
   "source": [
    "%%privateMain april test\n",
    "test = 'April'"
   ]
  },
  {
   "cell_type": "code",
   "execution_count": null,
   "id": "fb3eba95-a939-4021-8368-45a33222af0a",
   "metadata": {},
   "outputs": [],
   "source": []
  }
 ],
 "metadata": {
  "kernelspec": {
   "display_name": "Python 3 (ipykernel)",
   "language": "python",
   "name": "python3"
  },
  "language_info": {
   "codemirror_mode": {
    "name": "ipython",
    "version": 3
   },
   "file_extension": ".py",
   "mimetype": "text/x-python",
   "name": "python",
   "nbconvert_exporter": "python",
   "pygments_lexer": "ipython3",
   "version": "3.10.4"
  }
 },
 "nbformat": 4,
 "nbformat_minor": 5
}
